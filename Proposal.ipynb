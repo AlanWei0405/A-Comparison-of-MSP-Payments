{
 "cells": [
  {
   "cell_type": "markdown",
   "id": "c9d7614b-7ac0-4857-a37e-5952c879e072",
   "metadata": {},
   "source": [
    "# Title"
   ]
  },
  {
   "cell_type": "markdown",
   "id": "e9f6711e-0456-4713-a98f-e8ab64f444b2",
   "metadata": {},
   "source": [
    "## Introduction"
   ]
  },
  {
   "cell_type": "markdown",
   "id": "12f56ec0-fc94-4830-892b-71a09479ecd9",
   "metadata": {},
   "source": [
    "## Preliminary Results"
   ]
  },
  {
   "cell_type": "markdown",
   "id": "818fed14-616b-44b4-a3c0-bde60a639725",
   "metadata": {},
   "source": [
    "## Methods: Plan"
   ]
  },
  {
   "cell_type": "markdown",
   "id": "3ea98fdb-92fc-4be6-ab49-34c2441dd751",
   "metadata": {},
   "source": [
    "## References"
   ]
  }
 ],
 "metadata": {
  "kernelspec": {
   "display_name": "R",
   "language": "R",
   "name": "ir"
  },
  "language_info": {
   "codemirror_mode": "r",
   "file_extension": ".r",
   "mimetype": "text/x-r-source",
   "name": "R",
   "pygments_lexer": "r",
   "version": "4.1.2"
  }
 },
 "nbformat": 4,
 "nbformat_minor": 5
}
