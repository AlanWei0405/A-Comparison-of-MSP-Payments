{
 "cells": [
  {
   "cell_type": "markdown",
   "id": "agreed-enlargement",
   "metadata": {},
   "source": [
    "# A Comparison of MSP Payments in 2010/2011 and 2020/2021 Fiscal Year"
   ]
  },
  {
   "cell_type": "markdown",
   "id": "concerned-cover",
   "metadata": {},
   "source": [
    "## Introduction"
   ]
  },
  {
   "cell_type": "markdown",
   "id": "lovely-coaching",
   "metadata": {},
   "source": [
    "In Canada, public health insurance is available to eligible residents. Canadian citizens and permanent residents can apply for provincial health insurance. In British Columbia, public health insurance is called Medical Services Plan (MSP). It covers the cost of medically-necessary insured doctor services (Ministry of Health, 2021). \n",
    "\n",
    "BC Medical Services Plan's (MSP) annual financial statements include a detailed listing of total annual payments to all practitioners and organizations ((Compensation Policy and Programs, 2022). \n",
    "The data is obtained from BC government website. The first column “Payments to Practitioners” refers to the names of enrolled medical practitioners. The second column “Amount” refers to the amount of money (in CAD) paid by the MSP program. The third column “Fiscal Year” refers to the year of payments. The dataset covers the payments from 2010-11 to 2020-21 (Compensation Policy and Programs, 2022).\n",
    "\n",
    "According to data from the BC government website, the total annual payments to all practitioners and organizations in British Columbia may be increased over the study period. This can be factored into increases attributable to changes in the age structure of the population, general population growth and age-specific increases in per-capita use (Barer et al., 1989). Our objective is to compare the BC Medical Services Plan’s  (MSP) annual financial payment in 2010/2011 and 2020/2021 Fiscal Year. We will use the median value of the total amount in 2010/11 and 2020/21 to make a comparison. In addition, the scale parameter of standard deviation can show how to spread out."
   ]
  },
  {
   "cell_type": "markdown",
   "id": "consistent-content",
   "metadata": {},
   "source": [
    "## Preliminary Results"
   ]
  },
  {
   "cell_type": "markdown",
   "id": "administrative-roommate",
   "metadata": {},
   "source": [
    "Before getting started with our data, we run the next code block to load the packages we need."
   ]
  },
  {
   "cell_type": "code",
   "execution_count": 19,
   "id": "polished-kitty",
   "metadata": {
    "scrolled": true
   },
   "outputs": [],
   "source": [
    "# Run this cell before continuing.\n",
    "library(cowplot)\n",
    "library(datateachr)\n",
    "library(infer)\n",
    "library(repr)\n",
    "library(tidyverse)\n",
    "\n",
    "library(digest)\n",
    "library(broom)\n",
    "library(digest)\n",
    "library(testthat)"
   ]
  },
  {
   "cell_type": "markdown",
   "id": "differential-analysis",
   "metadata": {},
   "source": [
    "Firstly, we read our data using `read_csv()`. To make sure that our data is tidy, we rename two columnn names before filtering out some rows that are summarizing data."
   ]
  },
  {
   "cell_type": "code",
   "execution_count": 20,
   "id": "alone-nursery",
   "metadata": {},
   "outputs": [
    {
     "name": "stderr",
     "output_type": "stream",
     "text": [
      "\u001b[1mRows: \u001b[22m\u001b[34m121282\u001b[39m \u001b[1mColumns: \u001b[22m\u001b[34m3\u001b[39m\n",
      "\n",
      "\u001b[36m──\u001b[39m \u001b[1mColumn specification\u001b[22m \u001b[36m────────────────────────────────────────────────────────\u001b[39m\n",
      "\u001b[1mDelimiter:\u001b[22m \",\"\n",
      "\u001b[31mchr\u001b[39m (2): Payments to Practitioners, Fiscal Year\n",
      "\n",
      "\n",
      "\u001b[36mℹ\u001b[39m Use `spec()` to retrieve the full column specification for this data.\n",
      "\u001b[36mℹ\u001b[39m Specify the column types or set `show_col_types = FALSE` to quiet this message.\n",
      "\n"
     ]
    },
    {
     "data": {
      "text/html": [
       "<table class=\"dataframe\">\n",
       "<caption>A tibble: 6 × 3</caption>\n",
       "<thead>\n",
       "\t<tr><th scope=col>Payments_to_Practitoners</th><th scope=col>Amount</th><th scope=col>Fiscal_Year</th></tr>\n",
       "\t<tr><th scope=col>&lt;chr&gt;</th><th scope=col>&lt;dbl&gt;</th><th scope=col>&lt;chr&gt;</th></tr>\n",
       "</thead>\n",
       "<tbody>\n",
       "\t<tr><td>Aartsma, Durk Pieter     </td><td>265138.74</td><td>2020/2021</td></tr>\n",
       "\t<tr><td>Abayomi, Michael Ayotunde</td><td>557779.95</td><td>2020/2021</td></tr>\n",
       "\t<tr><td>Abbas, Wea'am            </td><td> 95487.34</td><td>2020/2021</td></tr>\n",
       "\t<tr><td>Abbey, Mark Douglas      </td><td> 96681.08</td><td>2020/2021</td></tr>\n",
       "\t<tr><td>Abbott, Breanne          </td><td>352280.26</td><td>2020/2021</td></tr>\n",
       "\t<tr><td>Abbott, Salome           </td><td>166357.84</td><td>2020/2021</td></tr>\n",
       "</tbody>\n",
       "</table>\n"
      ],
      "text/latex": [
       "A tibble: 6 × 3\n",
       "\\begin{tabular}{lll}\n",
       " Payments\\_to\\_Practitoners & Amount & Fiscal\\_Year\\\\\n",
       " <chr> & <dbl> & <chr>\\\\\n",
       "\\hline\n",
       "\t Aartsma, Durk Pieter      & 265138.74 & 2020/2021\\\\\n",
       "\t Abayomi, Michael Ayotunde & 557779.95 & 2020/2021\\\\\n",
       "\t Abbas, Wea'am             &  95487.34 & 2020/2021\\\\\n",
       "\t Abbey, Mark Douglas       &  96681.08 & 2020/2021\\\\\n",
       "\t Abbott, Breanne           & 352280.26 & 2020/2021\\\\\n",
       "\t Abbott, Salome            & 166357.84 & 2020/2021\\\\\n",
       "\\end{tabular}\n"
      ],
      "text/markdown": [
       "\n",
       "A tibble: 6 × 3\n",
       "\n",
       "| Payments_to_Practitoners &lt;chr&gt; | Amount &lt;dbl&gt; | Fiscal_Year &lt;chr&gt; |\n",
       "|---|---|---|\n",
       "| Aartsma, Durk Pieter      | 265138.74 | 2020/2021 |\n",
       "| Abayomi, Michael Ayotunde | 557779.95 | 2020/2021 |\n",
       "| Abbas, Wea'am             |  95487.34 | 2020/2021 |\n",
       "| Abbey, Mark Douglas       |  96681.08 | 2020/2021 |\n",
       "| Abbott, Breanne           | 352280.26 | 2020/2021 |\n",
       "| Abbott, Salome            | 166357.84 | 2020/2021 |\n",
       "\n"
      ],
      "text/plain": [
       "  Payments_to_Practitoners  Amount    Fiscal_Year\n",
       "1 Aartsma, Durk Pieter      265138.74 2020/2021  \n",
       "2 Abayomi, Michael Ayotunde 557779.95 2020/2021  \n",
       "3 Abbas, Wea'am              95487.34 2020/2021  \n",
       "4 Abbey, Mark Douglas        96681.08 2020/2021  \n",
       "5 Abbott, Breanne           352280.26 2020/2021  \n",
       "6 Abbott, Salome            166357.84 2020/2021  "
      ]
     },
     "metadata": {},
     "output_type": "display_data"
    }
   ],
   "source": [
    "msp_data <- read_csv(\"data/msp_data.csv\") %>%\n",
    "    rename(\"Fiscal_Year\" = \"Fiscal Year\", \"Payments_to_Practitoners\" = \"Payments to Practitioners\") %>%\n",
    "    filter(!grepl(\"Total Expenditures|Out of Province Payments|Reciprocal Agreements Recoveries|Under Threshold\", \n",
    "             Payments_to_Practitoners, ignore.case = TRUE))\n",
    "head(msp_data)"
   ]
  },
  {
   "cell_type": "markdown",
   "id": "brazilian-chase",
   "metadata": {},
   "source": [
    "Next, since we are evaluating MSP Payments in 2010/2011 and 2020/2021 Fiscal Year, now we will make two subsets of these two years' data with column `Amount` and `Fiscal_Year` respectively using `filter()` and `select()`."
   ]
  },
  {
   "cell_type": "code",
   "execution_count": 21,
   "id": "stylish-peripheral",
   "metadata": {},
   "outputs": [
    {
     "data": {
      "text/html": [
       "<table class=\"dataframe\">\n",
       "<caption>A tibble: 6 × 2</caption>\n",
       "<thead>\n",
       "\t<tr><th scope=col>Amount</th><th scope=col>Fiscal_Year</th></tr>\n",
       "\t<tr><th scope=col>&lt;dbl&gt;</th><th scope=col>&lt;chr&gt;</th></tr>\n",
       "</thead>\n",
       "<tbody>\n",
       "\t<tr><td>166795.05</td><td>2010/2011</td></tr>\n",
       "\t<tr><td>158640.24</td><td>2010/2011</td></tr>\n",
       "\t<tr><td>253671.34</td><td>2010/2011</td></tr>\n",
       "\t<tr><td> 39453.09</td><td>2010/2011</td></tr>\n",
       "\t<tr><td>665578.29</td><td>2010/2011</td></tr>\n",
       "\t<tr><td>159894.54</td><td>2010/2011</td></tr>\n",
       "</tbody>\n",
       "</table>\n"
      ],
      "text/latex": [
       "A tibble: 6 × 2\n",
       "\\begin{tabular}{ll}\n",
       " Amount & Fiscal\\_Year\\\\\n",
       " <dbl> & <chr>\\\\\n",
       "\\hline\n",
       "\t 166795.05 & 2010/2011\\\\\n",
       "\t 158640.24 & 2010/2011\\\\\n",
       "\t 253671.34 & 2010/2011\\\\\n",
       "\t  39453.09 & 2010/2011\\\\\n",
       "\t 665578.29 & 2010/2011\\\\\n",
       "\t 159894.54 & 2010/2011\\\\\n",
       "\\end{tabular}\n"
      ],
      "text/markdown": [
       "\n",
       "A tibble: 6 × 2\n",
       "\n",
       "| Amount &lt;dbl&gt; | Fiscal_Year &lt;chr&gt; |\n",
       "|---|---|\n",
       "| 166795.05 | 2010/2011 |\n",
       "| 158640.24 | 2010/2011 |\n",
       "| 253671.34 | 2010/2011 |\n",
       "|  39453.09 | 2010/2011 |\n",
       "| 665578.29 | 2010/2011 |\n",
       "| 159894.54 | 2010/2011 |\n",
       "\n"
      ],
      "text/plain": [
       "  Amount    Fiscal_Year\n",
       "1 166795.05 2010/2011  \n",
       "2 158640.24 2010/2011  \n",
       "3 253671.34 2010/2011  \n",
       "4  39453.09 2010/2011  \n",
       "5 665578.29 2010/2011  \n",
       "6 159894.54 2010/2011  "
      ]
     },
     "metadata": {},
     "output_type": "display_data"
    }
   ],
   "source": [
    "msp_2010 <- msp_data %>% \n",
    "filter(Fiscal_Year == \"2010/2011\") %>% \n",
    "select(Amount, Fiscal_Year)\n",
    "head(msp_2010)\n"
   ]
  },
  {
   "cell_type": "code",
   "execution_count": 22,
   "id": "62ed2ff0-d3f6-490e-bbad-8e7631ede704",
   "metadata": {},
   "outputs": [
    {
     "data": {
      "text/html": [
       "<table class=\"dataframe\">\n",
       "<caption>A tibble: 6 × 2</caption>\n",
       "<thead>\n",
       "\t<tr><th scope=col>Amount</th><th scope=col>Fiscal_Year</th></tr>\n",
       "\t<tr><th scope=col>&lt;dbl&gt;</th><th scope=col>&lt;chr&gt;</th></tr>\n",
       "</thead>\n",
       "<tbody>\n",
       "\t<tr><td>265138.74</td><td>2020/2021</td></tr>\n",
       "\t<tr><td>557779.95</td><td>2020/2021</td></tr>\n",
       "\t<tr><td> 95487.34</td><td>2020/2021</td></tr>\n",
       "\t<tr><td> 96681.08</td><td>2020/2021</td></tr>\n",
       "\t<tr><td>352280.26</td><td>2020/2021</td></tr>\n",
       "\t<tr><td>166357.84</td><td>2020/2021</td></tr>\n",
       "</tbody>\n",
       "</table>\n"
      ],
      "text/latex": [
       "A tibble: 6 × 2\n",
       "\\begin{tabular}{ll}\n",
       " Amount & Fiscal\\_Year\\\\\n",
       " <dbl> & <chr>\\\\\n",
       "\\hline\n",
       "\t 265138.74 & 2020/2021\\\\\n",
       "\t 557779.95 & 2020/2021\\\\\n",
       "\t  95487.34 & 2020/2021\\\\\n",
       "\t  96681.08 & 2020/2021\\\\\n",
       "\t 352280.26 & 2020/2021\\\\\n",
       "\t 166357.84 & 2020/2021\\\\\n",
       "\\end{tabular}\n"
      ],
      "text/markdown": [
       "\n",
       "A tibble: 6 × 2\n",
       "\n",
       "| Amount &lt;dbl&gt; | Fiscal_Year &lt;chr&gt; |\n",
       "|---|---|\n",
       "| 265138.74 | 2020/2021 |\n",
       "| 557779.95 | 2020/2021 |\n",
       "|  95487.34 | 2020/2021 |\n",
       "|  96681.08 | 2020/2021 |\n",
       "| 352280.26 | 2020/2021 |\n",
       "| 166357.84 | 2020/2021 |\n",
       "\n"
      ],
      "text/plain": [
       "  Amount    Fiscal_Year\n",
       "1 265138.74 2020/2021  \n",
       "2 557779.95 2020/2021  \n",
       "3  95487.34 2020/2021  \n",
       "4  96681.08 2020/2021  \n",
       "5 352280.26 2020/2021  \n",
       "6 166357.84 2020/2021  "
      ]
     },
     "metadata": {},
     "output_type": "display_data"
    }
   ],
   "source": [
    "msp_2020 <- msp_data %>% \n",
    "filter(Fiscal_Year == \"2020/2021\") %>% \n",
    "select(Amount, Fiscal_Year)\n",
    "head(msp_2020)"
   ]
  },
  {
   "cell_type": "markdown",
   "id": "three-danger",
   "metadata": {},
   "source": [
    "Then, we make histogram plots of these two subsets. Since we are comparing payments in this project, we will use `scale_x_continuous(labels = scales::dollar_format(), limits = c(0, 1000000)) ` to only plot the data that has the amount between 0 and 1,000,000."
   ]
  },
  {
   "cell_type": "code",
   "execution_count": 23,
   "id": "different-colonial",
   "metadata": {},
   "outputs": [
    {
     "name": "stderr",
     "output_type": "stream",
     "text": [
      "Warning message:\n",
      "“Removed 163 rows containing non-finite values (stat_bin).”\n",
      "Warning message:\n",
      "“Removed 2 rows containing missing values (geom_bar).”\n"
     ]
    },
    {
     "data": {
      "image/png": "[encoded data removed]",
      "text/plain": [
       "plot without title"
      ]
     },
     "metadata": {
      "image/png": {
       "height": 420,
       "width": 420
      }
     },
     "output_type": "display_data"
    }
   ],
   "source": [
    "msp_2010_plot <- msp_2010 %>%\n",
    "ggplot(aes(x = Amount)) + \n",
    "    geom_histogram(binwidth = 10000) +\n",
    "    labs(x = \"MSP annual payments (CAD)\", y = \"Frequency\") +\n",
    "    ggtitle(\"The distribution of annual MSP payments in 2010/2011 fiscal year\") +\n",
    "    scale_x_continuous(labels = scales::dollar_format(), limits = c(0, 1000000)) \n",
    "msp_2010_plot"
   ]
  },
  {
   "cell_type": "code",
   "execution_count": 24,
   "id": "speaking-technical",
   "metadata": {
    "scrolled": true
   },
   "outputs": [
    {
     "name": "stderr",
     "output_type": "stream",
     "text": [
      "Warning message:\n",
      "“Removed 262 rows containing non-finite values (stat_bin).”\n",
      "Warning message:\n",
      "“Removed 2 rows containing missing values (geom_bar).”\n"
     ]
    },
    {
     "data": {
      "image/png": "[encoded data removed]",
      "text/plain": [
       "plot without title"
      ]
     },
     "metadata": {
      "image/png": {
       "height": 420,
       "width": 420
      }
     },
     "output_type": "display_data"
    }
   ],
   "source": [
    "msp_2020_plot <- msp_2020 %>%\n",
    "ggplot(aes(x = Amount)) + \n",
    "    geom_histogram(binwidth = 10000) +\n",
    "    labs(x = \"MSP annual payments (CAD)\", y = \"Frequency\") +\n",
    "    ggtitle(\"The distribution of annual MSP payments in 2020/2021 fiscal year\") +\n",
    "    scale_x_continuous(labels = scales::dollar_format(), limits = c(0, 1000000)) \n",
    "msp_2020_plot"
   ]
  },
  {
   "cell_type": "markdown",
   "id": "czech-share",
   "metadata": {},
   "source": [
    "To get a better idea of the data, we use `summary()` to get some statistics about these two subsets and and the `median` value to the plots we create above."
   ]
  },
  {
   "cell_type": "code",
   "execution_count": 25,
   "id": "complete-dodge",
   "metadata": {},
   "outputs": [
    {
     "data": {
      "text/plain": [
       "     Min.   1st Qu.    Median      Mean   3rd Qu.      Max. \n",
       "    25025    103890    219770    372321    353332 176040137 "
      ]
     },
     "metadata": {},
     "output_type": "display_data"
    }
   ],
   "source": [
    "summary_2010 <- summary(msp_2010$Amount)\n",
    "\n",
    "summary_2010"
   ]
  },
  {
   "cell_type": "code",
   "execution_count": 26,
   "id": "rental-yugoslavia",
   "metadata": {},
   "outputs": [
    {
     "data": {
      "text/plain": [
       "     Min.   1st Qu.    Median      Mean   3rd Qu.      Max. \n",
       "-30423700     98383    215275    418224    370381 273985446 "
      ]
     },
     "metadata": {},
     "output_type": "display_data"
    }
   ],
   "source": [
    "summary_2020 <- summary(msp_2020$Amount)\n",
    "summary_2020"
   ]
  },
  {
   "cell_type": "markdown",
   "id": "international-diabetes",
   "metadata": {},
   "source": [
    "## Methods and Results"
   ]
  },
  {
   "cell_type": "markdown",
   "id": "center-graduate",
   "metadata": {},
   "source": [
    "### Expected Outcomes\n",
    "We will take a simple random sample of  from the dataset of the time 2010/2011 and 2020/2021. Then we estimate the mean of payment for both time periods and construct confidence interval. After that, we will compare the estimates to the true parameters of the population and discuss whether our samples are representative.\n",
    "Additionally, we compare the bootstrapping and asymptotics method using the samples above. \n",
    "We also want to find out whether the MSP payments to practitioners has changed from 2010/2011 to 2020/2021 by conducting a two-sided hypothesis test. \n",
    "\n",
    "### Impact of findings\n",
    "We will find out whether the medical practitioners recieved more or less money from the MSP program. Do they get more paid or less paid from the MSP program during the pandemic? \n",
    "\n",
    "### Future questions\n",
    "Information from the dataset is quite limited, only with names, payments, and time. Hence, we cannot make further analysis regarding other factors, for example, ages, genders, areas of expertise, etc. We will discuss this in details in the final report.\n"
   ]
  },
  {
   "cell_type": "markdown",
   "id": "a6b660ac-556f-47ed-a2a5-dd9eb2d1983d",
   "metadata": {},
   "source": [
    "# Asymptotic Method: Central Limit Theorem"
   ]
  },
  {
   "cell_type": "code",
   "execution_count": 27,
   "id": "8b8e8d97-8e38-4018-9b7c-dccee27d8bb0",
   "metadata": {},
   "outputs": [
    {
     "data": {
      "text/html": [
       "9472"
      ],
      "text/latex": [
       "9472"
      ],
      "text/markdown": [
       "9472"
      ],
      "text/plain": [
       "[1] 9472"
      ]
     },
     "metadata": {},
     "output_type": "display_data"
    }
   ],
   "source": [
    "#We use the data from 2010/2011\n",
    "\n",
    "length(msp_2010$Amount)\n",
    "pop_median <- median(msp_2010$Amount)\n",
    "\n",
    "\n",
    "#We choose the sample size of 1000, which is approximately 10% of the population\n",
    "set.seed(666)\n",
    "samples_msp_2010 <- \n",
    "    msp_2010 %>% \n",
    "    rep_sample_n(size = 1000, reps = 1000, replace = FALSE)"
   ]
  },
  {
   "cell_type": "code",
   "execution_count": 28,
   "id": "7685851c-294d-4a3a-ab56-28b3a1da0a33",
   "metadata": {},
   "outputs": [
    {
     "data": {
      "text/html": [
       "<table class=\"dataframe\">\n",
       "<caption>A tibble: 6 × 6</caption>\n",
       "<thead>\n",
       "\t<tr><th scope=col>replicate</th><th scope=col>sample_median</th><th scope=col>sample_sd</th><th scope=col>lower_bound</th><th scope=col>upper_bound</th><th scope=col>captured</th></tr>\n",
       "\t<tr><th scope=col>&lt;int&gt;</th><th scope=col>&lt;dbl&gt;</th><th scope=col>&lt;dbl&gt;</th><th scope=col>&lt;dbl&gt;</th><th scope=col>&lt;dbl&gt;</th><th scope=col>&lt;lgl&gt;</th></tr>\n",
       "</thead>\n",
       "<tbody>\n",
       "\t<tr><td>1</td><td>219769.4</td><td> 340203.5</td><td> 202073.81</td><td>237465.1</td><td>TRUE</td></tr>\n",
       "\t<tr><td>2</td><td>212649.6</td><td>1252444.4</td><td> 147503.94</td><td>277795.3</td><td>TRUE</td></tr>\n",
       "\t<tr><td>3</td><td>222099.5</td><td>6336124.0</td><td>-107472.93</td><td>551672.0</td><td>TRUE</td></tr>\n",
       "\t<tr><td>4</td><td>222591.6</td><td> 530284.4</td><td> 195008.97</td><td>250174.3</td><td>TRUE</td></tr>\n",
       "\t<tr><td>5</td><td>218753.8</td><td>5584743.5</td><td> -71735.74</td><td>509243.3</td><td>TRUE</td></tr>\n",
       "\t<tr><td>6</td><td>213494.1</td><td>1320137.5</td><td> 144827.35</td><td>282160.8</td><td>TRUE</td></tr>\n",
       "</tbody>\n",
       "</table>\n"
      ],
      "text/latex": [
       "A tibble: 6 × 6\n",
       "\\begin{tabular}{llllll}\n",
       " replicate & sample\\_median & sample\\_sd & lower\\_bound & upper\\_bound & captured\\\\\n",
       " <int> & <dbl> & <dbl> & <dbl> & <dbl> & <lgl>\\\\\n",
       "\\hline\n",
       "\t 1 & 219769.4 &  340203.5 &  202073.81 & 237465.1 & TRUE\\\\\n",
       "\t 2 & 212649.6 & 1252444.4 &  147503.94 & 277795.3 & TRUE\\\\\n",
       "\t 3 & 222099.5 & 6336124.0 & -107472.93 & 551672.0 & TRUE\\\\\n",
       "\t 4 & 222591.6 &  530284.4 &  195008.97 & 250174.3 & TRUE\\\\\n",
       "\t 5 & 218753.8 & 5584743.5 &  -71735.74 & 509243.3 & TRUE\\\\\n",
       "\t 6 & 213494.1 & 1320137.5 &  144827.35 & 282160.8 & TRUE\\\\\n",
       "\\end{tabular}\n"
      ],
      "text/markdown": [
       "\n",
       "A tibble: 6 × 6\n",
       "\n",
       "| replicate &lt;int&gt; | sample_median &lt;dbl&gt; | sample_sd &lt;dbl&gt; | lower_bound &lt;dbl&gt; | upper_bound &lt;dbl&gt; | captured &lt;lgl&gt; |\n",
       "|---|---|---|---|---|---|\n",
       "| 1 | 219769.4 |  340203.5 |  202073.81 | 237465.1 | TRUE |\n",
       "| 2 | 212649.6 | 1252444.4 |  147503.94 | 277795.3 | TRUE |\n",
       "| 3 | 222099.5 | 6336124.0 | -107472.93 | 551672.0 | TRUE |\n",
       "| 4 | 222591.6 |  530284.4 |  195008.97 | 250174.3 | TRUE |\n",
       "| 5 | 218753.8 | 5584743.5 |  -71735.74 | 509243.3 | TRUE |\n",
       "| 6 | 213494.1 | 1320137.5 |  144827.35 | 282160.8 | TRUE |\n",
       "\n"
      ],
      "text/plain": [
       "  replicate sample_median sample_sd lower_bound upper_bound captured\n",
       "1 1         219769.4       340203.5  202073.81  237465.1    TRUE    \n",
       "2 2         212649.6      1252444.4  147503.94  277795.3    TRUE    \n",
       "3 3         222099.5      6336124.0 -107472.93  551672.0    TRUE    \n",
       "4 4         222591.6       530284.4  195008.97  250174.3    TRUE    \n",
       "5 5         218753.8      5584743.5  -71735.74  509243.3    TRUE    \n",
       "6 6         213494.1      1320137.5  144827.35  282160.8    TRUE    "
      ]
     },
     "metadata": {},
     "output_type": "display_data"
    },
    {
     "data": {
      "text/html": [
       "0.997"
      ],
      "text/latex": [
       "0.997"
      ],
      "text/markdown": [
       "0.997"
      ],
      "text/plain": [
       "[1] 0.997"
      ]
     },
     "metadata": {},
     "output_type": "display_data"
    }
   ],
   "source": [
    "#Sample medians:\n",
    "samples_medians_msp_2010 <-\n",
    "    samples_msp_2010 %>% \n",
    "    group_by(replicate) %>% \n",
    "    summarise(sample_median = median(Amount),\n",
    "              sample_sd = sd(Amount),\n",
    "              lower_bound = sample_median-qnorm(0.95,lower.tail = TRUE)*sample_sd/sqrt(1000),\n",
    "              upper_bound = sample_median+qnorm(0.95,lower.tail = TRUE)*sample_sd/sqrt(1000),\n",
    "              captured = (lower_bound <= pop_median & pop_median <= upper_bound), `.groups` = \"drop\")\n",
    "head(samples_medians_msp_2010)\n",
    "\n",
    "mean(samples_medians_msp_2010$captured)\n"
   ]
  },
  {
   "cell_type": "code",
   "execution_count": 29,
   "id": "565c4a05-2620-4afc-8fa5-fc0f864f2605",
   "metadata": {},
   "outputs": [
    {
     "name": "stderr",
     "output_type": "stream",
     "text": [
      "`stat_bin()` using `bins = 30`. Pick better value with `binwidth`.\n",
      "\n"
     ]
    },
    {
     "data": {
      "image/png": "[encoded data removed]",
      "text/plain": [
       "plot without title"
      ]
     },
     "metadata": {
      "image/png": {
       "height": 420,
       "width": 420
      }
     },
     "output_type": "display_data"
    }
   ],
   "source": [
    "sampling_dist_msp_median_2010 <-\n",
    "    samples_medians_msp_2010 %>% \n",
    "    ggplot() + \n",
    "    geom_histogram(aes(x = sample_median, y = ..density..), color=\"white\") +\n",
    "    theme(text = element_text(size = 13))+\n",
    "    xlab(\"Sample median\") +\n",
    "    ggtitle(\"Sampling distribution of sample median from 2010/2011 MSP data\") \n",
    "sampling_dist_msp_median_2010"
   ]
  },
  {
   "cell_type": "markdown",
   "id": "cb0ef411-40bc-485a-a385-0fca1c7522d0",
   "metadata": {},
   "source": [
    "# Bootstrapping"
   ]
  },
  {
   "cell_type": "code",
   "execution_count": 30,
   "id": "14c53e67-a3a8-40d0-abb0-c4656f60875a",
   "metadata": {},
   "outputs": [
    {
     "data": {
      "text/html": [
       "<table class=\"dataframe\">\n",
       "<caption>A tibble: 6 × 3</caption>\n",
       "<thead>\n",
       "\t<tr><th scope=col>replicate</th><th scope=col>bootstrap_median</th><th scope=col>bootstrap_sd</th></tr>\n",
       "\t<tr><th scope=col>&lt;int&gt;</th><th scope=col>&lt;dbl&gt;</th><th scope=col>&lt;dbl&gt;</th></tr>\n",
       "</thead>\n",
       "<tbody>\n",
       "\t<tr><td>1</td><td>213591.9</td><td>211504.6</td></tr>\n",
       "\t<tr><td>2</td><td>222325.1</td><td>339139.8</td></tr>\n",
       "\t<tr><td>3</td><td>211646.0</td><td>407191.3</td></tr>\n",
       "\t<tr><td>4</td><td>225719.4</td><td>466044.4</td></tr>\n",
       "\t<tr><td>5</td><td>205450.1</td><td>234122.2</td></tr>\n",
       "\t<tr><td>6</td><td>227333.0</td><td>455357.4</td></tr>\n",
       "</tbody>\n",
       "</table>\n"
      ],
      "text/latex": [
       "A tibble: 6 × 3\n",
       "\\begin{tabular}{lll}\n",
       " replicate & bootstrap\\_median & bootstrap\\_sd\\\\\n",
       " <int> & <dbl> & <dbl>\\\\\n",
       "\\hline\n",
       "\t 1 & 213591.9 & 211504.6\\\\\n",
       "\t 2 & 222325.1 & 339139.8\\\\\n",
       "\t 3 & 211646.0 & 407191.3\\\\\n",
       "\t 4 & 225719.4 & 466044.4\\\\\n",
       "\t 5 & 205450.1 & 234122.2\\\\\n",
       "\t 6 & 227333.0 & 455357.4\\\\\n",
       "\\end{tabular}\n"
      ],
      "text/markdown": [
       "\n",
       "A tibble: 6 × 3\n",
       "\n",
       "| replicate &lt;int&gt; | bootstrap_median &lt;dbl&gt; | bootstrap_sd &lt;dbl&gt; |\n",
       "|---|---|---|\n",
       "| 1 | 213591.9 | 211504.6 |\n",
       "| 2 | 222325.1 | 339139.8 |\n",
       "| 3 | 211646.0 | 407191.3 |\n",
       "| 4 | 225719.4 | 466044.4 |\n",
       "| 5 | 205450.1 | 234122.2 |\n",
       "| 6 | 227333.0 | 455357.4 |\n",
       "\n"
      ],
      "text/plain": [
       "  replicate bootstrap_median bootstrap_sd\n",
       "1 1         213591.9         211504.6    \n",
       "2 2         222325.1         339139.8    \n",
       "3 3         211646.0         407191.3    \n",
       "4 4         225719.4         466044.4    \n",
       "5 5         205450.1         234122.2    \n",
       "6 6         227333.0         455357.4    "
      ]
     },
     "metadata": {},
     "output_type": "display_data"
    },
    {
     "data": {
      "text/html": [
       "<table class=\"dataframe\">\n",
       "<caption>A tibble: 6 × 3</caption>\n",
       "<thead>\n",
       "\t<tr><th scope=col>replicate</th><th scope=col>ci_lower</th><th scope=col>ci_upper</th></tr>\n",
       "\t<tr><th scope=col>&lt;int&gt;</th><th scope=col>&lt;dbl&gt;</th><th scope=col>&lt;dbl&gt;</th></tr>\n",
       "</thead>\n",
       "<tbody>\n",
       "\t<tr><td>1</td><td>202590.6</td><td>224593.3</td></tr>\n",
       "\t<tr><td>2</td><td>204684.8</td><td>239965.4</td></tr>\n",
       "\t<tr><td>3</td><td>190466.0</td><td>232826.0</td></tr>\n",
       "\t<tr><td>4</td><td>201478.2</td><td>249960.7</td></tr>\n",
       "\t<tr><td>5</td><td>193272.2</td><td>217627.9</td></tr>\n",
       "\t<tr><td>6</td><td>203647.7</td><td>251018.3</td></tr>\n",
       "</tbody>\n",
       "</table>\n"
      ],
      "text/latex": [
       "A tibble: 6 × 3\n",
       "\\begin{tabular}{lll}\n",
       " replicate & ci\\_lower & ci\\_upper\\\\\n",
       " <int> & <dbl> & <dbl>\\\\\n",
       "\\hline\n",
       "\t 1 & 202590.6 & 224593.3\\\\\n",
       "\t 2 & 204684.8 & 239965.4\\\\\n",
       "\t 3 & 190466.0 & 232826.0\\\\\n",
       "\t 4 & 201478.2 & 249960.7\\\\\n",
       "\t 5 & 193272.2 & 217627.9\\\\\n",
       "\t 6 & 203647.7 & 251018.3\\\\\n",
       "\\end{tabular}\n"
      ],
      "text/markdown": [
       "\n",
       "A tibble: 6 × 3\n",
       "\n",
       "| replicate &lt;int&gt; | ci_lower &lt;dbl&gt; | ci_upper &lt;dbl&gt; |\n",
       "|---|---|---|\n",
       "| 1 | 202590.6 | 224593.3 |\n",
       "| 2 | 204684.8 | 239965.4 |\n",
       "| 3 | 190466.0 | 232826.0 |\n",
       "| 4 | 201478.2 | 249960.7 |\n",
       "| 5 | 193272.2 | 217627.9 |\n",
       "| 6 | 203647.7 | 251018.3 |\n",
       "\n"
      ],
      "text/plain": [
       "  replicate ci_lower ci_upper\n",
       "1 1         202590.6 224593.3\n",
       "2 2         204684.8 239965.4\n",
       "3 3         190466.0 232826.0\n",
       "4 4         201478.2 249960.7\n",
       "5 5         193272.2 217627.9\n",
       "6 6         203647.7 251018.3"
      ]
     },
     "metadata": {},
     "output_type": "display_data"
    },
    {
     "data": {
      "text/html": [
       "<table class=\"dataframe\">\n",
       "<caption>A tibble: 6 × 4</caption>\n",
       "<thead>\n",
       "\t<tr><th scope=col>replicate</th><th scope=col>ci_lower</th><th scope=col>ci_upper</th><th scope=col>captured</th></tr>\n",
       "\t<tr><th scope=col>&lt;int&gt;</th><th scope=col>&lt;dbl&gt;</th><th scope=col>&lt;dbl&gt;</th><th scope=col>&lt;lgl&gt;</th></tr>\n",
       "</thead>\n",
       "<tbody>\n",
       "\t<tr><td>1</td><td>202590.6</td><td>224593.3</td><td> TRUE</td></tr>\n",
       "\t<tr><td>2</td><td>204684.8</td><td>239965.4</td><td> TRUE</td></tr>\n",
       "\t<tr><td>3</td><td>190466.0</td><td>232826.0</td><td> TRUE</td></tr>\n",
       "\t<tr><td>4</td><td>201478.2</td><td>249960.7</td><td> TRUE</td></tr>\n",
       "\t<tr><td>5</td><td>193272.2</td><td>217627.9</td><td>FALSE</td></tr>\n",
       "\t<tr><td>6</td><td>203647.7</td><td>251018.3</td><td> TRUE</td></tr>\n",
       "</tbody>\n",
       "</table>\n"
      ],
      "text/latex": [
       "A tibble: 6 × 4\n",
       "\\begin{tabular}{llll}\n",
       " replicate & ci\\_lower & ci\\_upper & captured\\\\\n",
       " <int> & <dbl> & <dbl> & <lgl>\\\\\n",
       "\\hline\n",
       "\t 1 & 202590.6 & 224593.3 &  TRUE\\\\\n",
       "\t 2 & 204684.8 & 239965.4 &  TRUE\\\\\n",
       "\t 3 & 190466.0 & 232826.0 &  TRUE\\\\\n",
       "\t 4 & 201478.2 & 249960.7 &  TRUE\\\\\n",
       "\t 5 & 193272.2 & 217627.9 & FALSE\\\\\n",
       "\t 6 & 203647.7 & 251018.3 &  TRUE\\\\\n",
       "\\end{tabular}\n"
      ],
      "text/markdown": [
       "\n",
       "A tibble: 6 × 4\n",
       "\n",
       "| replicate &lt;int&gt; | ci_lower &lt;dbl&gt; | ci_upper &lt;dbl&gt; | captured &lt;lgl&gt; |\n",
       "|---|---|---|---|\n",
       "| 1 | 202590.6 | 224593.3 |  TRUE |\n",
       "| 2 | 204684.8 | 239965.4 |  TRUE |\n",
       "| 3 | 190466.0 | 232826.0 |  TRUE |\n",
       "| 4 | 201478.2 | 249960.7 |  TRUE |\n",
       "| 5 | 193272.2 | 217627.9 | FALSE |\n",
       "| 6 | 203647.7 | 251018.3 |  TRUE |\n",
       "\n"
      ],
      "text/plain": [
       "  replicate ci_lower ci_upper captured\n",
       "1 1         202590.6 224593.3  TRUE   \n",
       "2 2         204684.8 239965.4  TRUE   \n",
       "3 3         190466.0 232826.0  TRUE   \n",
       "4 4         201478.2 249960.7  TRUE   \n",
       "5 5         193272.2 217627.9 FALSE   \n",
       "6 6         203647.7 251018.3  TRUE   "
      ]
     },
     "metadata": {},
     "output_type": "display_data"
    },
    {
     "data": {
      "text/html": [
       "0.944"
      ],
      "text/latex": [
       "0.944"
      ],
      "text/markdown": [
       "0.944"
      ],
      "text/plain": [
       "[1] 0.944"
      ]
     },
     "metadata": {},
     "output_type": "display_data"
    },
    {
     "name": "stderr",
     "output_type": "stream",
     "text": [
      "`stat_bin()` using `bins = 30`. Pick better value with `binwidth`.\n",
      "\n"
     ]
    },
    {
     "data": {
      "image/png": "[encoded data removed]",
      "text/plain": [
       "plot without title"
      ]
     },
     "metadata": {
      "image/png": {
       "height": 420,
       "width": 420
      }
     },
     "output_type": "display_data"
    }
   ],
   "source": [
    "set.seed(666)\n",
    "pop_median <- msp_2010 %>%\n",
    "    pull(Amount) %>% \n",
    "    median()\n",
    "## find the original sample \n",
    "msp_2010_sample <- msp_2010 %>%\n",
    "rep_sample_n(size = 1000, replace = FALSE)\n",
    "\n",
    "## find the sample's bootstrap\n",
    "msp_2010_bootstrap <- msp_2010_sample %>%\n",
    "rep_sample_n (size = 1000, reps = 1000, replace = TRUE) %>%\n",
    "group_by(replicate) %>%\n",
    "summarize(bootstrap_median= median (Amount),\n",
    "         bootstrap_sd = sd(Amount))\n",
    "head(msp_2010_bootstrap)\n",
    "\n",
    "\n",
    "intervals <- \n",
    "    msp_2010_bootstrap %>% \n",
    "    group_by (replicate) %>%\n",
    "    summarize(ci_lower = bootstrap_median - qnorm(0.95,lower.tail = TRUE)*bootstrap_sd/sqrt(1000),\n",
    "              ci_upper = bootstrap_median + qnorm(0.95,lower.tail = TRUE)*bootstrap_sd/sqrt(1000))\n",
    "head(intervals)\n",
    "\n",
    "intervals_captured <- \n",
    "    intervals %>% \n",
    "    mutate(captured = (ci_lower <= pop_median & pop_median <= ci_upper))\n",
    "head(intervals_captured)\n",
    "\n",
    "mean(intervals_captured$captured)\n",
    "\n",
    "bootstrap_figure <- msp_2010_bootstrap %>%\n",
    "ggplot(aes(x = bootstrap_median)) +\n",
    "geom_histogram() +\n",
    "xlab(\"median of the sample\")\n",
    "bootstrap_figure"
   ]
  },
  {
   "cell_type": "markdown",
   "id": "aecc8cea-eac1-4265-874c-c4f33bb2b967",
   "metadata": {},
   "source": [
    "# Hypothesis Test"
   ]
  },
  {
   "cell_type": "code",
   "execution_count": 14,
   "id": "e493c7a5-c0b9-4268-bc09-f89afc7f7f00",
   "metadata": {},
   "outputs": [
    {
     "data": {
      "text/html": [
       "<table class=\"dataframe\">\n",
       "<caption>A tibble: 6 × 3</caption>\n",
       "<thead>\n",
       "\t<tr><th scope=col>replicate</th><th scope=col>sample_median</th><th scope=col>Fiscal_Year</th></tr>\n",
       "\t<tr><th scope=col>&lt;int&gt;</th><th scope=col>&lt;dbl&gt;</th><th scope=col>&lt;chr&gt;</th></tr>\n",
       "</thead>\n",
       "<tbody>\n",
       "\t<tr><td>1</td><td>211445.7</td><td>2010/2011</td></tr>\n",
       "\t<tr><td>2</td><td>219213.0</td><td>2010/2011</td></tr>\n",
       "\t<tr><td>3</td><td>212092.0</td><td>2010/2011</td></tr>\n",
       "\t<tr><td>4</td><td>222507.7</td><td>2010/2011</td></tr>\n",
       "\t<tr><td>5</td><td>211979.2</td><td>2010/2011</td></tr>\n",
       "\t<tr><td>6</td><td>220830.2</td><td>2010/2011</td></tr>\n",
       "</tbody>\n",
       "</table>\n"
      ],
      "text/latex": [
       "A tibble: 6 × 3\n",
       "\\begin{tabular}{lll}\n",
       " replicate & sample\\_median & Fiscal\\_Year\\\\\n",
       " <int> & <dbl> & <chr>\\\\\n",
       "\\hline\n",
       "\t 1 & 211445.7 & 2010/2011\\\\\n",
       "\t 2 & 219213.0 & 2010/2011\\\\\n",
       "\t 3 & 212092.0 & 2010/2011\\\\\n",
       "\t 4 & 222507.7 & 2010/2011\\\\\n",
       "\t 5 & 211979.2 & 2010/2011\\\\\n",
       "\t 6 & 220830.2 & 2010/2011\\\\\n",
       "\\end{tabular}\n"
      ],
      "text/markdown": [
       "\n",
       "A tibble: 6 × 3\n",
       "\n",
       "| replicate &lt;int&gt; | sample_median &lt;dbl&gt; | Fiscal_Year &lt;chr&gt; |\n",
       "|---|---|---|\n",
       "| 1 | 211445.7 | 2010/2011 |\n",
       "| 2 | 219213.0 | 2010/2011 |\n",
       "| 3 | 212092.0 | 2010/2011 |\n",
       "| 4 | 222507.7 | 2010/2011 |\n",
       "| 5 | 211979.2 | 2010/2011 |\n",
       "| 6 | 220830.2 | 2010/2011 |\n",
       "\n"
      ],
      "text/plain": [
       "  replicate sample_median Fiscal_Year\n",
       "1 1         211445.7      2010/2011  \n",
       "2 2         219213.0      2010/2011  \n",
       "3 3         212092.0      2010/2011  \n",
       "4 4         222507.7      2010/2011  \n",
       "5 5         211979.2      2010/2011  \n",
       "6 6         220830.2      2010/2011  "
      ]
     },
     "metadata": {},
     "output_type": "display_data"
    },
    {
     "data": {
      "text/html": [
       "<table class=\"dataframe\">\n",
       "<caption>A tibble: 6 × 3</caption>\n",
       "<thead>\n",
       "\t<tr><th scope=col>replicate</th><th scope=col>sample_median</th><th scope=col>Fiscal_Year</th></tr>\n",
       "\t<tr><th scope=col>&lt;int&gt;</th><th scope=col>&lt;dbl&gt;</th><th scope=col>&lt;chr&gt;</th></tr>\n",
       "</thead>\n",
       "<tbody>\n",
       "\t<tr><td>1</td><td>195979.6</td><td>2020/2021</td></tr>\n",
       "\t<tr><td>2</td><td>220649.8</td><td>2020/2021</td></tr>\n",
       "\t<tr><td>3</td><td>212602.6</td><td>2020/2021</td></tr>\n",
       "\t<tr><td>4</td><td>209629.3</td><td>2020/2021</td></tr>\n",
       "\t<tr><td>5</td><td>194038.8</td><td>2020/2021</td></tr>\n",
       "\t<tr><td>6</td><td>195247.9</td><td>2020/2021</td></tr>\n",
       "</tbody>\n",
       "</table>\n"
      ],
      "text/latex": [
       "A tibble: 6 × 3\n",
       "\\begin{tabular}{lll}\n",
       " replicate & sample\\_median & Fiscal\\_Year\\\\\n",
       " <int> & <dbl> & <chr>\\\\\n",
       "\\hline\n",
       "\t 1 & 195979.6 & 2020/2021\\\\\n",
       "\t 2 & 220649.8 & 2020/2021\\\\\n",
       "\t 3 & 212602.6 & 2020/2021\\\\\n",
       "\t 4 & 209629.3 & 2020/2021\\\\\n",
       "\t 5 & 194038.8 & 2020/2021\\\\\n",
       "\t 6 & 195247.9 & 2020/2021\\\\\n",
       "\\end{tabular}\n"
      ],
      "text/markdown": [
       "\n",
       "A tibble: 6 × 3\n",
       "\n",
       "| replicate &lt;int&gt; | sample_median &lt;dbl&gt; | Fiscal_Year &lt;chr&gt; |\n",
       "|---|---|---|\n",
       "| 1 | 195979.6 | 2020/2021 |\n",
       "| 2 | 220649.8 | 2020/2021 |\n",
       "| 3 | 212602.6 | 2020/2021 |\n",
       "| 4 | 209629.3 | 2020/2021 |\n",
       "| 5 | 194038.8 | 2020/2021 |\n",
       "| 6 | 195247.9 | 2020/2021 |\n",
       "\n"
      ],
      "text/plain": [
       "  replicate sample_median Fiscal_Year\n",
       "1 1         195979.6      2020/2021  \n",
       "2 2         220649.8      2020/2021  \n",
       "3 3         212602.6      2020/2021  \n",
       "4 4         209629.3      2020/2021  \n",
       "5 5         194038.8      2020/2021  \n",
       "6 6         195247.9      2020/2021  "
      ]
     },
     "metadata": {},
     "output_type": "display_data"
    }
   ],
   "source": [
    "set.seed(666)\n",
    "\n",
    "\n",
    "# msp_rm_outliers <- rbind(msp_2010_outliers_rm,msp_2020_outliers_rm)\n",
    "#2010\n",
    "\n",
    "## find the sample's bootstrap\n",
    "msp_2010_bootstrap_samples <- msp_2010_sample %>%\n",
    "rep_sample_n (size = 1000, reps = 1000, replace = TRUE) %>%\n",
    "group_by(replicate)%>%\n",
    "summarize(sample_median = median(Amount),Fiscal_Year = \"2010/2011\")\n",
    "\n",
    "#2020\n",
    "## find the original sample \n",
    "msp_2020_sample <- msp_2020 %>%\n",
    "rep_sample_n(size = 1000, replace = FALSE)\n",
    "\n",
    "## find the sample's bootstrap\n",
    "msp_2020_bootstrap_samples <- msp_2020_sample %>%\n",
    "rep_sample_n (size = 1000, reps = 1000, replace = TRUE) %>%\n",
    "group_by(replicate)%>%\n",
    "summarize(sample_median = median(Amount),Fiscal_Year = \"2020/2021\")\n",
    "\n",
    "\n",
    "head(msp_2010_bootstrap_samples)\n",
    "head(msp_2020_bootstrap_samples)"
   ]
  },
  {
   "cell_type": "code",
   "execution_count": 15,
   "id": "452a20c3-f193-40e1-b20d-e100914ed0a7",
   "metadata": {},
   "outputs": [
    {
     "data": {
      "text/html": [
       "<table class=\"dataframe\">\n",
       "<caption>A tibble: 6 × 3</caption>\n",
       "<thead>\n",
       "\t<tr><th scope=col>replicate</th><th scope=col>sample_median</th><th scope=col>Fiscal_Year</th></tr>\n",
       "\t<tr><th scope=col>&lt;int&gt;</th><th scope=col>&lt;dbl&gt;</th><th scope=col>&lt;chr&gt;</th></tr>\n",
       "</thead>\n",
       "<tbody>\n",
       "\t<tr><td>1</td><td>211445.7</td><td>2010/2011</td></tr>\n",
       "\t<tr><td>2</td><td>219213.0</td><td>2010/2011</td></tr>\n",
       "\t<tr><td>3</td><td>212092.0</td><td>2010/2011</td></tr>\n",
       "\t<tr><td>4</td><td>222507.7</td><td>2010/2011</td></tr>\n",
       "\t<tr><td>5</td><td>211979.2</td><td>2010/2011</td></tr>\n",
       "\t<tr><td>6</td><td>220830.2</td><td>2010/2011</td></tr>\n",
       "</tbody>\n",
       "</table>\n"
      ],
      "text/latex": [
       "A tibble: 6 × 3\n",
       "\\begin{tabular}{lll}\n",
       " replicate & sample\\_median & Fiscal\\_Year\\\\\n",
       " <int> & <dbl> & <chr>\\\\\n",
       "\\hline\n",
       "\t 1 & 211445.7 & 2010/2011\\\\\n",
       "\t 2 & 219213.0 & 2010/2011\\\\\n",
       "\t 3 & 212092.0 & 2010/2011\\\\\n",
       "\t 4 & 222507.7 & 2010/2011\\\\\n",
       "\t 5 & 211979.2 & 2010/2011\\\\\n",
       "\t 6 & 220830.2 & 2010/2011\\\\\n",
       "\\end{tabular}\n"
      ],
      "text/markdown": [
       "\n",
       "A tibble: 6 × 3\n",
       "\n",
       "| replicate &lt;int&gt; | sample_median &lt;dbl&gt; | Fiscal_Year &lt;chr&gt; |\n",
       "|---|---|---|\n",
       "| 1 | 211445.7 | 2010/2011 |\n",
       "| 2 | 219213.0 | 2010/2011 |\n",
       "| 3 | 212092.0 | 2010/2011 |\n",
       "| 4 | 222507.7 | 2010/2011 |\n",
       "| 5 | 211979.2 | 2010/2011 |\n",
       "| 6 | 220830.2 | 2010/2011 |\n",
       "\n"
      ],
      "text/plain": [
       "  replicate sample_median Fiscal_Year\n",
       "1 1         211445.7      2010/2011  \n",
       "2 2         219213.0      2010/2011  \n",
       "3 3         212092.0      2010/2011  \n",
       "4 4         222507.7      2010/2011  \n",
       "5 5         211979.2      2010/2011  \n",
       "6 6         220830.2      2010/2011  "
      ]
     },
     "metadata": {},
     "output_type": "display_data"
    },
    {
     "data": {
      "text/html": [
       "<table class=\"dataframe\">\n",
       "<caption>A tibble: 6 × 3</caption>\n",
       "<thead>\n",
       "\t<tr><th scope=col>replicate</th><th scope=col>sample_median</th><th scope=col>Fiscal_Year</th></tr>\n",
       "\t<tr><th scope=col>&lt;int&gt;</th><th scope=col>&lt;dbl&gt;</th><th scope=col>&lt;chr&gt;</th></tr>\n",
       "</thead>\n",
       "<tbody>\n",
       "\t<tr><td> 995</td><td>201183.2</td><td>2020/2021</td></tr>\n",
       "\t<tr><td> 996</td><td>212377.4</td><td>2020/2021</td></tr>\n",
       "\t<tr><td> 997</td><td>202557.7</td><td>2020/2021</td></tr>\n",
       "\t<tr><td> 998</td><td>208740.5</td><td>2020/2021</td></tr>\n",
       "\t<tr><td> 999</td><td>213401.6</td><td>2020/2021</td></tr>\n",
       "\t<tr><td>1000</td><td>214674.8</td><td>2020/2021</td></tr>\n",
       "</tbody>\n",
       "</table>\n"
      ],
      "text/latex": [
       "A tibble: 6 × 3\n",
       "\\begin{tabular}{lll}\n",
       " replicate & sample\\_median & Fiscal\\_Year\\\\\n",
       " <int> & <dbl> & <chr>\\\\\n",
       "\\hline\n",
       "\t  995 & 201183.2 & 2020/2021\\\\\n",
       "\t  996 & 212377.4 & 2020/2021\\\\\n",
       "\t  997 & 202557.7 & 2020/2021\\\\\n",
       "\t  998 & 208740.5 & 2020/2021\\\\\n",
       "\t  999 & 213401.6 & 2020/2021\\\\\n",
       "\t 1000 & 214674.8 & 2020/2021\\\\\n",
       "\\end{tabular}\n"
      ],
      "text/markdown": [
       "\n",
       "A tibble: 6 × 3\n",
       "\n",
       "| replicate &lt;int&gt; | sample_median &lt;dbl&gt; | Fiscal_Year &lt;chr&gt; |\n",
       "|---|---|---|\n",
       "|  995 | 201183.2 | 2020/2021 |\n",
       "|  996 | 212377.4 | 2020/2021 |\n",
       "|  997 | 202557.7 | 2020/2021 |\n",
       "|  998 | 208740.5 | 2020/2021 |\n",
       "|  999 | 213401.6 | 2020/2021 |\n",
       "| 1000 | 214674.8 | 2020/2021 |\n",
       "\n"
      ],
      "text/plain": [
       "  replicate sample_median Fiscal_Year\n",
       "1  995      201183.2      2020/2021  \n",
       "2  996      212377.4      2020/2021  \n",
       "3  997      202557.7      2020/2021  \n",
       "4  998      208740.5      2020/2021  \n",
       "5  999      213401.6      2020/2021  \n",
       "6 1000      214674.8      2020/2021  "
      ]
     },
     "metadata": {},
     "output_type": "display_data"
    }
   ],
   "source": [
    "msp_rm_outliers <- rbind(msp_2010_bootstrap_samples,msp_2020_bootstrap_samples)\n",
    "head(msp_rm_outliers)\n",
    "tail(msp_rm_outliers)"
   ]
  },
  {
   "cell_type": "code",
   "execution_count": 16,
   "id": "7245557e-7eb0-4620-a078-60afd060b05c",
   "metadata": {},
   "outputs": [
    {
     "data": {
      "text/html": [
       "<table class=\"dataframe\">\n",
       "<caption>A tibble: 2 × 5</caption>\n",
       "<thead>\n",
       "\t<tr><th scope=col>Fiscal_Year</th><th scope=col>mean</th><th scope=col>var</th><th scope=col>sd</th><th scope=col>n</th></tr>\n",
       "\t<tr><th scope=col>&lt;chr&gt;</th><th scope=col>&lt;dbl&gt;</th><th scope=col>&lt;dbl&gt;</th><th scope=col>&lt;dbl&gt;</th><th scope=col>&lt;int&gt;</th></tr>\n",
       "</thead>\n",
       "<tbody>\n",
       "\t<tr><td>2010/2011</td><td>218309.1</td><td> 68094765</td><td> 8251.955</td><td>1000</td></tr>\n",
       "\t<tr><td>2020/2021</td><td>207518.2</td><td>107346184</td><td>10360.800</td><td>1000</td></tr>\n",
       "</tbody>\n",
       "</table>\n"
      ],
      "text/latex": [
       "A tibble: 2 × 5\n",
       "\\begin{tabular}{lllll}\n",
       " Fiscal\\_Year & mean & var & sd & n\\\\\n",
       " <chr> & <dbl> & <dbl> & <dbl> & <int>\\\\\n",
       "\\hline\n",
       "\t 2010/2011 & 218309.1 &  68094765 &  8251.955 & 1000\\\\\n",
       "\t 2020/2021 & 207518.2 & 107346184 & 10360.800 & 1000\\\\\n",
       "\\end{tabular}\n"
      ],
      "text/markdown": [
       "\n",
       "A tibble: 2 × 5\n",
       "\n",
       "| Fiscal_Year &lt;chr&gt; | mean &lt;dbl&gt; | var &lt;dbl&gt; | sd &lt;dbl&gt; | n &lt;int&gt; |\n",
       "|---|---|---|---|---|\n",
       "| 2010/2011 | 218309.1 |  68094765 |  8251.955 | 1000 |\n",
       "| 2020/2021 | 207518.2 | 107346184 | 10360.800 | 1000 |\n",
       "\n"
      ],
      "text/plain": [
       "  Fiscal_Year mean     var       sd        n   \n",
       "1 2010/2011   218309.1  68094765  8251.955 1000\n",
       "2 2020/2021   207518.2 107346184 10360.800 1000"
      ]
     },
     "metadata": {},
     "output_type": "display_data"
    }
   ],
   "source": [
    "msp_summary <- msp_rm_outliers%>%\n",
    "                group_by(Fiscal_Year) %>%\n",
    "                summarise(mean= mean(sample_median),\n",
    "                         var = var(sample_median),\n",
    "                          sd = sd(sample_median),\n",
    "                         n = n())\n",
    "msp_summary"
   ]
  },
  {
   "cell_type": "code",
   "execution_count": 17,
   "id": "3afe8bdf-9d59-4367-8d71-9032f1f5be01",
   "metadata": {},
   "outputs": [
    {
     "data": {
      "text/html": [
       "25.7625419675324"
      ],
      "text/latex": [
       "25.7625419675324"
      ],
      "text/markdown": [
       "25.7625419675324"
      ],
      "text/plain": [
       "[1] 25.76254"
      ]
     },
     "metadata": {},
     "output_type": "display_data"
    }
   ],
   "source": [
    "test_statistic <- (msp_summary$mean[1] - msp_summary$mean[2]) / \n",
    "    sqrt(msp_summary$var[2]/msp_summary$n[2] \n",
    "         + msp_summary$var[1]/msp_summary$n[1])\n",
    "test_statistic"
   ]
  },
  {
   "cell_type": "code",
   "execution_count": 18,
   "id": "0a1759f2-3c84-4f72-8d5d-eef0e6e05c64",
   "metadata": {},
   "outputs": [
    {
     "data": {
      "text/html": [
       "<table class=\"dataframe\">\n",
       "<caption>A tibble: 1 × 10</caption>\n",
       "<thead>\n",
       "\t<tr><th scope=col>estimate</th><th scope=col>estimate1</th><th scope=col>estimate2</th><th scope=col>statistic</th><th scope=col>p.value</th><th scope=col>parameter</th><th scope=col>conf.low</th><th scope=col>conf.high</th><th scope=col>method</th><th scope=col>alternative</th></tr>\n",
       "\t<tr><th scope=col>&lt;dbl&gt;</th><th scope=col>&lt;dbl&gt;</th><th scope=col>&lt;dbl&gt;</th><th scope=col>&lt;dbl&gt;</th><th scope=col>&lt;dbl&gt;</th><th scope=col>&lt;dbl&gt;</th><th scope=col>&lt;dbl&gt;</th><th scope=col>&lt;dbl&gt;</th><th scope=col>&lt;chr&gt;</th><th scope=col>&lt;chr&gt;</th></tr>\n",
       "</thead>\n",
       "<tbody>\n",
       "\t<tr><td>10790.81</td><td>218309.1</td><td>207518.2</td><td>25.76254</td><td>8.347764e-126</td><td>1902.757</td><td>9969.347</td><td>11612.28</td><td>Welch Two Sample t-test</td><td>two.sided</td></tr>\n",
       "</tbody>\n",
       "</table>\n"
      ],
      "text/latex": [
       "A tibble: 1 × 10\n",
       "\\begin{tabular}{llllllllll}\n",
       " estimate & estimate1 & estimate2 & statistic & p.value & parameter & conf.low & conf.high & method & alternative\\\\\n",
       " <dbl> & <dbl> & <dbl> & <dbl> & <dbl> & <dbl> & <dbl> & <dbl> & <chr> & <chr>\\\\\n",
       "\\hline\n",
       "\t 10790.81 & 218309.1 & 207518.2 & 25.76254 & 8.347764e-126 & 1902.757 & 9969.347 & 11612.28 & Welch Two Sample t-test & two.sided\\\\\n",
       "\\end{tabular}\n"
      ],
      "text/markdown": [
       "\n",
       "A tibble: 1 × 10\n",
       "\n",
       "| estimate &lt;dbl&gt; | estimate1 &lt;dbl&gt; | estimate2 &lt;dbl&gt; | statistic &lt;dbl&gt; | p.value &lt;dbl&gt; | parameter &lt;dbl&gt; | conf.low &lt;dbl&gt; | conf.high &lt;dbl&gt; | method &lt;chr&gt; | alternative &lt;chr&gt; |\n",
       "|---|---|---|---|---|---|---|---|---|---|\n",
       "| 10790.81 | 218309.1 | 207518.2 | 25.76254 | 8.347764e-126 | 1902.757 | 9969.347 | 11612.28 | Welch Two Sample t-test | two.sided |\n",
       "\n"
      ],
      "text/plain": [
       "  estimate estimate1 estimate2 statistic p.value       parameter conf.low\n",
       "1 10790.81 218309.1  207518.2  25.76254  8.347764e-126 1902.757  9969.347\n",
       "  conf.high method                  alternative\n",
       "1 11612.28  Welch Two Sample t-test two.sided  "
      ]
     },
     "metadata": {},
     "output_type": "display_data"
    }
   ],
   "source": [
    "msp_t_test <- \n",
    "    tidy(t.test(msp_rm_outliers %>% filter(Fiscal_Year == \"2010/2011\") %>% pull(sample_median),\n",
    "           msp_rm_outliers %>% filter(Fiscal_Year == \"2020/2021\") %>% pull(sample_median)))\n",
    "\n",
    "msp_t_test"
   ]
  },
  {
   "cell_type": "markdown",
   "id": "sealed-shanghai",
   "metadata": {},
   "source": [
    "## References"
   ]
  },
  {
   "cell_type": "markdown",
   "id": "exceptional-heading",
   "metadata": {},
   "source": [
    "Barer, M. L., Pulcins, I. R., Evans, R. G., Hertzman, C., Lomas, J., & Anderson, G. M. (1989). Trends in use of medical services by the elderly in British Columbia. CMAJ: Canadian Medical Association Journal, 141(1), 39.\n",
    "Compensation Policy and Programs. (2022, February 8). MSP Blue Book . Retrieved February 21, 2022, from https://catalogue.data.gov.bc.ca/dataset/c7413d9f-112e-4a26-bbd1-ae2711856629.\n",
    "\n",
    "G, K., Steinmetz, S., & de Vries, D. H. (2014, April 23). Should I stay or should I go? The impact of working time and wages on retention in the health workforce - Human Resources for Health. Human Resources for Health. Retrieved March 5, 2022, from https://human-resources-health.biomedcentral.com/articles/10.1186/1478-4491-12-23\n",
    "\n",
    "Ministry of Health. (2021, July 29). Medical services plan. Province of British Columbia. Retrieved February 22, 2022, from https://www2.gov.bc.ca/gov/content/health/practitioner-professional-resources/msp\n",
    "\n",
    "Wranik, D. W., & Durier-Copp, M. (2010). Physician remuneration methods for family physicians in Canada: expected outcomes and lessons learned. Health Care Analysis, 18(1), 35-59."
   ]
  },
  {
   "cell_type": "markdown",
   "id": "7fff3e40-7043-4c47-a60f-10937aea855b",
   "metadata": {},
   "source": [
    "# Questions\n",
    "\n",
    "1. Set seed: \n",
    "    CLT: multiple samples from population; Bootstrap: one sample from population. Is it necessary to set the same seed?\n",
    "\n",
    "2. Median or Mean:\n",
    "    Data skewed. But can we use median in CLT?\n",
    "  \n",
    "3. Comparing Asymptotic method and Bootstrap:\n",
    "    How to tell which is better? The proportion of capturing true parameter?\n",
    "    Using median, CLT is around 70%, bootstrap is almost 100%\n",
    "    \n",
    "4. Sample or Population:\n",
    "    We treat the dataset as population and take samples from it when doing comparison. Can we treat it as a sample in hypothesis test? If not, should we estimate the parameter using the better between CLT and bootstrap? Or can we just take a simple random sample to perform the test?\n",
    "    \n"
   ]
  },
  {
   "cell_type": "code",
   "execution_count": null,
   "id": "5fba2016-e3e3-4c32-a91b-593ec0cab709",
   "metadata": {},
   "outputs": [],
   "source": []
  }
 ],
 "metadata": {
  "kernelspec": {
   "display_name": "R",
   "language": "R",
   "name": "ir"
  },
  "language_info": {
   "codemirror_mode": "r",
   "file_extension": ".r",
   "mimetype": "text/x-r-source",
   "name": "R",
   "pygments_lexer": "r",
   "version": "4.1.2"
  }
 },
 "nbformat": 4,
 "nbformat_minor": 5
}
